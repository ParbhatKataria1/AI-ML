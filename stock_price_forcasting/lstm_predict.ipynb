{
 "cells": [
  {
   "cell_type": "code",
   "execution_count": 7,
   "id": "62ce97ce",
   "metadata": {},
   "outputs": [
    {
     "name": "stderr",
     "output_type": "stream",
     "text": [
      "/tmp/ipykernel_22870/2510323998.py:11: FutureWarning: YF.download() has changed argument auto_adjust default to True\n",
      "  df = yf.download(ticker, start=\"2024-01-01\", end=\"2024-02-10\")\n",
      "[*********************100%***********************]  1 of 1 completed\n"
     ]
    },
    {
     "name": "stdout",
     "output_type": "stream",
     "text": [
      "✅ Model & Scaler loaded!\n",
      "\u001b[1m1/1\u001b[0m \u001b[32m━━━━━━━━━━━━━━━━━━━━\u001b[0m\u001b[37m\u001b[0m \u001b[1m0s\u001b[0m 225ms/step\n",
      "Predictions: [-0.1119867  -0.11206145 -0.11203193 -0.11197711 -0.11196549 -0.11191769\n",
      " -0.11192608]\n",
      "RMSE: 0.0001, R2: 0.0778\n"
     ]
    }
   ],
   "source": [
    "import yfinance as yf\n",
    "import pandas as pd\n",
    "import numpy as np\n",
    "import joblib\n",
    "from tensorflow.keras.models import load_model\n",
    "\n",
    "# -----------------------------\n",
    "# Download test data\n",
    "# -----------------------------\n",
    "ticker = \"AAPL\"\n",
    "df = yf.download(ticker, start=\"2024-01-01\", end=\"2024-02-10\")\n",
    "\n",
    "# Preprocess\n",
    "df['return'] = df['Close'].pct_change()\n",
    "df['daily_range'] = df['High'] - df['Low']\n",
    "df['close_open_diff'] = df['Close'] - df['Open']\n",
    "df.fillna(0, inplace=True)\n",
    "\n",
    "features = ['Close', 'return', 'daily_range', 'close_open_diff', 'Volume']\n",
    "\n",
    "# Load trained model + scaler\n",
    "model = load_model(\"lstm_stock_model.keras\")\n",
    "scaler = joblib.load(\"scaler.pkl\")\n",
    "print(\"✅ Model & Scaler loaded!\")\n",
    "\n",
    "# Scale data with SAME scaler\n",
    "scaled_data = scaler.transform(df[features])\n",
    "\n",
    "# Sequence creation (consistent with training)\n",
    "def create_sequences(data, window=20):\n",
    "    X, y = [], []\n",
    "    for i in range(window, len(data)-1):\n",
    "        X.append(data[i-window:i])     # input features\n",
    "        y.append(data[i, 0])           # next-day Close\n",
    "    return np.array(X), np.array(y)\n",
    "\n",
    "X_test, y_test = create_sequences(scaled_data, window=20)\n",
    "\n",
    "# Predict\n",
    "y_pred = model.predict(X_test)\n",
    "\n",
    "# Reverse scaling for Close price\n",
    "y_test_rescaled = y_test * scaler.scale_[0] + scaler.min_[0]\n",
    "y_pred_rescaled = y_pred.flatten() * scaler.scale_[0] + scaler.min_[0]\n",
    "\n",
    "# Evaluate\n",
    "from sklearn.metrics import mean_squared_error, r2_score\n",
    "rmse = np.sqrt(mean_squared_error(y_test_rescaled, y_pred_rescaled))\n",
    "r2 = r2_score(y_test_rescaled, y_pred_rescaled)\n",
    "\n",
    "print(\"Predictions:\", y_pred_rescaled[:10])\n",
    "print(f'RMSE: {rmse:.4f}, R2: {r2:.4f}')\n"
   ]
  }
 ],
 "metadata": {
  "kernelspec": {
   "display_name": "venv (3.11.7)",
   "language": "python",
   "name": "python3"
  },
  "language_info": {
   "codemirror_mode": {
    "name": "ipython",
    "version": 3
   },
   "file_extension": ".py",
   "mimetype": "text/x-python",
   "name": "python",
   "nbconvert_exporter": "python",
   "pygments_lexer": "ipython3",
   "version": "3.11.7"
  }
 },
 "nbformat": 4,
 "nbformat_minor": 5
}
